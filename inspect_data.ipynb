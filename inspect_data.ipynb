{
 "cells": [
  {
   "cell_type": "code",
   "execution_count": 1,
   "metadata": {},
   "outputs": [],
   "source": [
    "import os,sys,re\n",
    "\n",
    "# sys.path.insert(0, \"/home/wenhao71/.pylib/3\")\n",
    "\n",
    "%load_ext autoreload\n",
    "%autoreload 2"
   ]
  },
  {
   "cell_type": "code",
   "execution_count": 2,
   "metadata": {},
   "outputs": [],
   "source": [
    "from typing import *\n",
    "import wfdb\n",
    "import scipy\n",
    "import json\n",
    "from io import StringIO\n",
    "from scipy.io import loadmat\n",
    "from glob import glob\n",
    "from copy import deepcopy\n",
    "from random import shuffle\n",
    "from functools import reduce\n",
    "from tqdm import tqdm\n",
    "from scipy.signal import resample, resample_poly\n",
    "import torch\n",
    "from itertools import product\n",
    "from easydict import EasyDict as ED\n",
    "\n",
    "from data_reader import CPSC2020Reader as CR\n",
    "from dataset import CPSC2020\n",
    "from cfg import TrainCfg, ModelCfg, PreprocCfg\n",
    "from utils import list_sum\n",
    "from torch_ecg.torch_ecg.models.nets import (\n",
    "    BCEWithLogitsWithClassWeightLoss,\n",
    "    default_collate_fn as collate_fn,\n",
    ")\n",
    "from torch.utils.data import DataLoader"
   ]
  },
  {
   "cell_type": "code",
   "execution_count": 3,
   "metadata": {},
   "outputs": [
    {
     "data": {
      "text/plain": [
       "'/media/cfs/wenhao71/workspace/cpsc2020'"
      ]
     },
     "execution_count": 3,
     "metadata": {},
     "output_type": "execute_result"
    }
   ],
   "source": [
    "pwd"
   ]
  },
  {
   "cell_type": "code",
   "execution_count": 4,
   "metadata": {},
   "outputs": [],
   "source": [
    "db_dir = '/media/cfs/wenhao71/data/CPSC2020/TrainingSet/'"
   ]
  },
  {
   "cell_type": "code",
   "execution_count": 5,
   "metadata": {},
   "outputs": [],
   "source": [
    "dr = CR(db_dir)"
   ]
  },
  {
   "cell_type": "code",
   "execution_count": 6,
   "metadata": {},
   "outputs": [
    {
     "data": {
      "text/plain": [
       "['A01', 'A02', 'A03', 'A04', 'A05', 'A06', 'A07', 'A08', 'A09', 'A10']"
      ]
     },
     "execution_count": 6,
     "metadata": {},
     "output_type": "execute_result"
    }
   ],
   "source": [
    "dr.all_records"
   ]
  },
  {
   "cell_type": "code",
   "execution_count": null,
   "metadata": {},
   "outputs": [],
   "source": [
    "# for rec in dr.all_records:\n",
    "#     data = dr.load_data(rec, keep_dim=False)\n",
    "#     print(f\"{rec} has max abs value {np.max(np.abs(data))} (max positive values {np.max(data)}, max negative values {np.min(data)})\")"
   ]
  },
  {
   "cell_type": "code",
   "execution_count": null,
   "metadata": {},
   "outputs": [],
   "source": [
    "# for rec in dr.all_records:\n",
    "#     ann = dr.load_ann(rec)\n",
    "#     spb = ann[\"SPB_indices\"]\n",
    "#     pvc = ann[\"PVC_indices\"]\n",
    "#     if len(np.diff(spb)) > 0:\n",
    "#         print(f\"{rec}: min dist among SPB = {np.min(np.diff(spb))}\")\n",
    "#     if len(np.diff(pvc)) > 0:\n",
    "#         print(f\"{rec}: min dist among PVC = {np.min(np.diff(pvc))}\")\n",
    "#     diff = [s-p for s,p in product(spb, pvc)]\n",
    "#     if len(diff) > 0:\n",
    "#         print(f\"{rec}: min dist between SPB and PVC = {np.min(np.abs(diff))}\")"
   ]
  },
  {
   "cell_type": "code",
   "execution_count": null,
   "metadata": {},
   "outputs": [],
   "source": []
  },
  {
   "cell_type": "code",
   "execution_count": null,
   "metadata": {},
   "outputs": [],
   "source": [
    "rec = dr.all_records[1]"
   ]
  },
  {
   "cell_type": "code",
   "execution_count": null,
   "metadata": {},
   "outputs": [],
   "source": [
    "dr.load_ann(rec)"
   ]
  },
  {
   "cell_type": "code",
   "execution_count": null,
   "metadata": {},
   "outputs": [],
   "source": [
    "dr.locate_premature_beats(rec, \"pvc\")"
   ]
  },
  {
   "cell_type": "code",
   "execution_count": null,
   "metadata": {},
   "outputs": [],
   "source": [
    "# dr.plot(rec,sampfrom=1459472,ticks_granularity=2,sampto=1469472)"
   ]
  },
  {
   "cell_type": "code",
   "execution_count": null,
   "metadata": {
    "scrolled": true
   },
   "outputs": [],
   "source": [
    "dr.plot(rec,sampfrom=0,ticks_granularity=2,sampto=4000)"
   ]
  },
  {
   "cell_type": "code",
   "execution_count": null,
   "metadata": {},
   "outputs": [],
   "source": []
  },
  {
   "cell_type": "code",
   "execution_count": 7,
   "metadata": {},
   "outputs": [
    {
     "data": {
      "text/plain": [
       "{'fs': 400,\n",
       " 'n_leads': 1,\n",
       " 'torch_dtype': 'float',\n",
       " 'crnn': {'fs': 400,\n",
       "  'n_leads': 1,\n",
       "  'torch_dtype': 'float',\n",
       "  'classes': ['N', 'S', 'V'],\n",
       "  'class_map': {'N': 0, 'S': 1, 'V': 2},\n",
       "  'cnn': {'name': 'multi_scopic',\n",
       "   'multi_scopic': {'groups': 1,\n",
       "    'scopes': [[[1], [1, 1], [1, 1, 1]],\n",
       "     [[2], [2, 4], [8, 8, 8]],\n",
       "     [[4], [4, 8], [16, 32, 64]]],\n",
       "    'filter_lengths': [[11, 7, 5], [11, 7, 5], [11, 7, 5]],\n",
       "    'subsample_lengths': [2, 2, 2],\n",
       "    'num_filters': [[32, 64, 128], [32, 64, 128], [32, 64, 128]],\n",
       "    'dropouts': [[0, 0.2, 0], [0, 0.2, 0], [0, 0.2, 0]],\n",
       "    'bias': True,\n",
       "    'kernel_initializer': 'he_normal',\n",
       "    'kw_initializer': {},\n",
       "    'activation': 'relu',\n",
       "    'kw_activation': {'inplace': True},\n",
       "    'block': {'subsample_mode': 'max',\n",
       "     'bias': True,\n",
       "     'kernel_initializer': 'he_normal',\n",
       "     'kw_initializer': {},\n",
       "     'activation': 'relu',\n",
       "     'kw_activation': {'inplace': True}}}},\n",
       "  'rnn': {'name': 'linear',\n",
       "   'linear': {'out_channels': [256, 64],\n",
       "    'bias': True,\n",
       "    'dropouts': 0.2,\n",
       "    'activation': 'mish'}},\n",
       "  'global_pool': 'max'},\n",
       " 'seq_lab': {'fs': 400,\n",
       "  'n_leads': 1,\n",
       "  'torch_dtype': 'float',\n",
       "  'classes': ['S', 'V'],\n",
       "  'class_map': {'S': 1, 'V': 2},\n",
       "  'cnn': {'name': 'multi_scopic',\n",
       "   'multi_scopic': {'groups': 1,\n",
       "    'scopes': [[[1], [1, 1], [1, 1, 1]],\n",
       "     [[2], [2, 4], [8, 8, 8]],\n",
       "     [[4], [4, 8], [16, 32, 64]]],\n",
       "    'filter_lengths': [[11, 7, 5], [11, 7, 5], [11, 7, 5]],\n",
       "    'subsample_lengths': [2, 2, 2],\n",
       "    'num_filters': [[32, 64, 128], [32, 64, 128], [32, 64, 128]],\n",
       "    'dropouts': [[0, 0.2, 0], [0, 0.2, 0], [0, 0.2, 0]],\n",
       "    'bias': True,\n",
       "    'kernel_initializer': 'he_normal',\n",
       "    'kw_initializer': {},\n",
       "    'activation': 'relu',\n",
       "    'kw_activation': {'inplace': True},\n",
       "    'block': {'subsample_mode': 'max',\n",
       "     'bias': True,\n",
       "     'kernel_initializer': 'he_normal',\n",
       "     'kw_initializer': {},\n",
       "     'activation': 'relu',\n",
       "     'kw_activation': {'inplace': True}}}},\n",
       "  'rnn': {'name': 'none'},\n",
       "  'attn': {'name': 'se',\n",
       "   'se': {'reduction': 8,\n",
       "    'activation': 'relu',\n",
       "    'kw_activation': {'inplace': True},\n",
       "    'bias': True,\n",
       "    'kernel_initializer': 'he_normal'}},\n",
       "  'clf': {'out_channels': [256, 64],\n",
       "   'activation': 'mish',\n",
       "   'bias': True,\n",
       "   'kernel_initializer': 'he_normal',\n",
       "   'dropouts': [0.2, 0.2, 0.0]}}}"
      ]
     },
     "execution_count": 7,
     "metadata": {},
     "output_type": "execute_result"
    }
   ],
   "source": [
    "ModelCfg"
   ]
  },
  {
   "cell_type": "code",
   "execution_count": 8,
   "metadata": {},
   "outputs": [],
   "source": [
    "dataset_cfg = ED(TrainCfg.copy())"
   ]
  },
  {
   "cell_type": "code",
   "execution_count": 9,
   "metadata": {},
   "outputs": [],
   "source": [
    "dataset_cfg.model_name = \"seq_lab\"\n",
    "dataset_cfg.classes = ModelCfg[dataset_cfg.model_name].classes\n",
    "dataset_cfg.class_map = ModelCfg[dataset_cfg.model_name].class_map"
   ]
  },
  {
   "cell_type": "code",
   "execution_count": 10,
   "metadata": {},
   "outputs": [
    {
     "data": {
      "text/plain": [
       "{'fs': 400,\n",
       " 'preproc': ['bandpass'],\n",
       " 'baseline_window1': 80,\n",
       " 'baseline_window2': 240,\n",
       " 'filter_band': [0.5, 45],\n",
       " 'parallel_epoch_len': 600,\n",
       " 'parallel_epoch_overlap': 10,\n",
       " 'parallel_keep_tail': True,\n",
       " 'rpeaks': 'seq_lab',\n",
       " 'rpeaks_dist2border': 200}"
      ]
     },
     "execution_count": 10,
     "metadata": {},
     "output_type": "execute_result"
    }
   ],
   "source": [
    "PreprocCfg"
   ]
  },
  {
   "cell_type": "code",
   "execution_count": null,
   "metadata": {},
   "outputs": [],
   "source": []
  },
  {
   "cell_type": "code",
   "execution_count": 11,
   "metadata": {},
   "outputs": [],
   "source": [
    "ds = CPSC2020(dataset_cfg, training=True)"
   ]
  },
  {
   "cell_type": "code",
   "execution_count": 12,
   "metadata": {},
   "outputs": [
    {
     "data": {
      "text/plain": [
       "157699"
      ]
     },
     "execution_count": 12,
     "metadata": {},
     "output_type": "execute_result"
    }
   ],
   "source": [
    "len(list_sum([v for v in ds.all_segments.values()]))"
   ]
  },
  {
   "cell_type": "code",
   "execution_count": 13,
   "metadata": {},
   "outputs": [
    {
     "name": "stdout",
     "output_type": "stream",
     "text": [
      "A01 8995\n",
      "A02 15327\n",
      "A03 10084\n",
      "A04 30931\n",
      "A05 8360\n",
      "A06 8581\n",
      "A07 25856\n",
      "A08 15765\n",
      "A09 12671\n",
      "A10 21129\n"
     ]
    }
   ],
   "source": [
    "for rec, l_seg in ds.all_segments.items():\n",
    "    print(rec, len(l_seg))"
   ]
  },
  {
   "cell_type": "code",
   "execution_count": null,
   "metadata": {},
   "outputs": [],
   "source": [
    "# with open(ds.segments_json, \"w\") as f:\n",
    "#     json.dump(ds.all_segments, f)"
   ]
  },
  {
   "cell_type": "code",
   "execution_count": null,
   "metadata": {},
   "outputs": [],
   "source": [
    "ds._load_seg_seq_lab(ds.segments[0]).shape"
   ]
  },
  {
   "cell_type": "code",
   "execution_count": 14,
   "metadata": {},
   "outputs": [],
   "source": [
    "ds.__DEBUG__=True"
   ]
  },
  {
   "cell_type": "code",
   "execution_count": 16,
   "metadata": {},
   "outputs": [
    {
     "data": {
      "image/png": "[encoded data removed]",
      "text/plain": [
       "<Figure size 3456x189.867 with 1 Axes>"
      ]
     },
     "metadata": {
      "needs_background": "light"
     },
     "output_type": "display_data"
    }
   ],
   "source": [
    "data, label = ds[14000]"
   ]
  },
  {
   "cell_type": "code",
   "execution_count": 17,
   "metadata": {},
   "outputs": [
    {
     "data": {
      "application/javascript": [
       "\n",
       "        if (window._pyforest_update_imports_cell) { window._pyforest_update_imports_cell('import numpy as np'); }\n",
       "    "
      ],
      "text/plain": [
       "<IPython.core.display.Javascript object>"
      ]
     },
     "metadata": {},
     "output_type": "display_data"
    },
    {
     "data": {
      "text/plain": [
       "array([1.38, 1.4 , 1.42, 1.44, 1.46, 1.48, 1.5 , 1.52, 1.54, 1.56, 1.58,\n",
       "       1.6 , 1.62, 1.64, 1.66, 1.68, 1.7 ])"
      ]
     },
     "execution_count": 17,
     "metadata": {},
     "output_type": "execute_result"
    }
   ],
   "source": [
    "np.where(label[:,1]>0.5)[0]*8/400"
   ]
  },
  {
   "cell_type": "code",
   "execution_count": null,
   "metadata": {},
   "outputs": [],
   "source": [
    "# with open(\"/media/cfs/wenhao71/data/CPSC2020/TrainingSet/segments_backup2/crnn_segments.json\", \"r\") as f:\n",
    "#     old_segs = json.load(f)\n",
    "# for rec, l_seg in old_segs.items():\n",
    "#     print(rec, len(l_seg))"
   ]
  },
  {
   "cell_type": "code",
   "execution_count": null,
   "metadata": {},
   "outputs": [],
   "source": []
  },
  {
   "cell_type": "code",
   "execution_count": null,
   "metadata": {},
   "outputs": [],
   "source": [
    "train_loader = DataLoader(\n",
    "    dataset=ds,\n",
    "    batch_size=32,\n",
    "    shuffle=True,\n",
    "    num_workers=8,\n",
    "    pin_memory=True,\n",
    "    drop_last=False,\n",
    "    collate_fn=collate_fn,\n",
    ")"
   ]
  },
  {
   "cell_type": "code",
   "execution_count": null,
   "metadata": {},
   "outputs": [],
   "source": [
    "for signals, labels in train_loader:\n",
    "    break"
   ]
  },
  {
   "cell_type": "code",
   "execution_count": null,
   "metadata": {},
   "outputs": [],
   "source": [
    "signals.shape"
   ]
  },
  {
   "cell_type": "code",
   "execution_count": null,
   "metadata": {},
   "outputs": [],
   "source": [
    "labels.shape"
   ]
  },
  {
   "cell_type": "code",
   "execution_count": null,
   "metadata": {},
   "outputs": [],
   "source": [
    "pred = torch.rand((32, 500, 2))"
   ]
  },
  {
   "cell_type": "code",
   "execution_count": null,
   "metadata": {},
   "outputs": [],
   "source": [
    "loss = torch.nn.BCEWithLogitsLoss()"
   ]
  },
  {
   "cell_type": "code",
   "execution_count": null,
   "metadata": {},
   "outputs": [],
   "source": [
    "loss(pred, labels)"
   ]
  },
  {
   "cell_type": "code",
   "execution_count": null,
   "metadata": {},
   "outputs": [],
   "source": []
  },
  {
   "cell_type": "code",
   "execution_count": null,
   "metadata": {},
   "outputs": [],
   "source": []
  },
  {
   "cell_type": "code",
   "execution_count": null,
   "metadata": {},
   "outputs": [],
   "source": [
    "ds.disable_data_augmentation()"
   ]
  },
  {
   "cell_type": "code",
   "execution_count": null,
   "metadata": {},
   "outputs": [],
   "source": [
    "ds.__DEBUG__=True"
   ]
  },
  {
   "cell_type": "code",
   "execution_count": null,
   "metadata": {},
   "outputs": [],
   "source": []
  },
  {
   "cell_type": "code",
   "execution_count": null,
   "metadata": {},
   "outputs": [],
   "source": [
    "ds[1]"
   ]
  },
  {
   "cell_type": "code",
   "execution_count": null,
   "metadata": {},
   "outputs": [],
   "source": [
    "ds.segments[10004]"
   ]
  },
  {
   "cell_type": "code",
   "execution_count": null,
   "metadata": {},
   "outputs": [],
   "source": [
    "ds[10004]"
   ]
  },
  {
   "cell_type": "code",
   "execution_count": null,
   "metadata": {},
   "outputs": [],
   "source": [
    "np.std(ds[100095][0]), np.mean(ds[100095][0])"
   ]
  },
  {
   "cell_type": "code",
   "execution_count": null,
   "metadata": {},
   "outputs": [],
   "source": [
    "ds._get_seg_ampl(ds[10003])"
   ]
  },
  {
   "cell_type": "code",
   "execution_count": null,
   "metadata": {},
   "outputs": [],
   "source": [
    "# dr.plot(rec=\"A02\", sampfrom=169*seg_len, sampto=186*seg_len)"
   ]
  },
  {
   "cell_type": "code",
   "execution_count": null,
   "metadata": {},
   "outputs": [],
   "source": [
    "# flat_segs = {rec:[] for rec in dr.all_records}\n",
    "# valid_segs = {rec:[] for rec in dr.all_records}\n",
    "\n",
    "# for i, rec in enumerate(ds.reader.all_records):\n",
    "#     for idx, seg in enumerate(ds.all_segments[rec]):\n",
    "#         seg_data = ds._load_seg_data(seg)\n",
    "#         if ds._get_seg_ampl(seg_data) < 0.1:\n",
    "#             flat_segs[rec].append(seg)\n",
    "#         else:\n",
    "#             valid_segs[rec].append(seg)\n",
    "#         print(f\"{idx+1}/{len(ds.all_segments[rec])} @ {i+1}/{len(ds.reader.all_records)}\", end=\"\\r\")"
   ]
  },
  {
   "cell_type": "code",
   "execution_count": null,
   "metadata": {},
   "outputs": [],
   "source": [
    "# valid_segs"
   ]
  },
  {
   "cell_type": "code",
   "execution_count": null,
   "metadata": {},
   "outputs": [],
   "source": [
    "# len(list_sum([v for v in valid_segs.values()]))"
   ]
  },
  {
   "cell_type": "code",
   "execution_count": null,
   "metadata": {},
   "outputs": [],
   "source": [
    "# len(list_sum([v for v in flat_segs.values()]))"
   ]
  },
  {
   "cell_type": "code",
   "execution_count": null,
   "metadata": {},
   "outputs": [],
   "source": [
    "# len(list_sum([v for v in ds.all_segments.values()]))"
   ]
  },
  {
   "cell_type": "code",
   "execution_count": null,
   "metadata": {},
   "outputs": [],
   "source": [
    "# with open(ds.segments_json, \"w\") as f:\n",
    "#     json.dump(valid_segs, f)"
   ]
  },
  {
   "cell_type": "code",
   "execution_count": null,
   "metadata": {},
   "outputs": [],
   "source": []
  },
  {
   "cell_type": "code",
   "execution_count": null,
   "metadata": {},
   "outputs": [],
   "source": [
    "ds.__DEBUG__ = True\n",
    "ds.disable_data_augmentation()"
   ]
  },
  {
   "cell_type": "code",
   "execution_count": null,
   "metadata": {},
   "outputs": [],
   "source": [
    "all_segs = list_sum([v for k,v in ds.all_segments.items()])"
   ]
  },
  {
   "cell_type": "code",
   "execution_count": null,
   "metadata": {},
   "outputs": [],
   "source": [
    "mean分布, std分布 = [], []\n",
    "\n",
    "for i, (rec, l_seg) in enumerate(ds.all_segments.items()):\n",
    "    for idx, seg in enumerate(l_seg):\n",
    "        data = ds._load_seg_data(seg)\n",
    "        mean分布.append(np.mean(data))\n",
    "        std分布.append(np.std(data))\n",
    "#         print(f\"{idx+1}/{len(l_seg)} @ {i+1}/{len(ds.all_segments)}\", end=\"\\r\", flush=True)"
   ]
  },
  {
   "cell_type": "code",
   "execution_count": null,
   "metadata": {},
   "outputs": [],
   "source": [
    "len(mean分布), len(std分布)"
   ]
  },
  {
   "cell_type": "code",
   "execution_count": null,
   "metadata": {},
   "outputs": [],
   "source": [
    "plt.hist(mean分布)"
   ]
  },
  {
   "cell_type": "code",
   "execution_count": null,
   "metadata": {},
   "outputs": [],
   "source": [
    "np.median(mean分布), np.mean(mean分布)"
   ]
  },
  {
   "cell_type": "code",
   "execution_count": null,
   "metadata": {},
   "outputs": [],
   "source": [
    "plt.hist(std分布)"
   ]
  },
  {
   "cell_type": "code",
   "execution_count": null,
   "metadata": {},
   "outputs": [],
   "source": [
    "np.median(std分布), np.mean(std分布)"
   ]
  },
  {
   "cell_type": "code",
   "execution_count": null,
   "metadata": {},
   "outputs": [],
   "source": [
    "# check = []\n",
    "# for i, (rec, l_seg) in enumerate(ds.all_segments.items()):\n",
    "#     for idx, seg in enumerate(l_seg):\n",
    "#         data = ds._load_seg_data(seg)\n",
    "#         if np.std(data) < 0.002:\n",
    "#             check.append(seg)"
   ]
  },
  {
   "cell_type": "code",
   "execution_count": null,
   "metadata": {},
   "outputs": [],
   "source": [
    "std分布_sorted = sorted(std分布)"
   ]
  },
  {
   "cell_type": "code",
   "execution_count": null,
   "metadata": {},
   "outputs": [],
   "source": [
    "std分布_sorted[:10]"
   ]
  },
  {
   "cell_type": "code",
   "execution_count": null,
   "metadata": {},
   "outputs": [],
   "source": [
    "np.sum(np.array(std分布)<0.03)"
   ]
  },
  {
   "cell_type": "code",
   "execution_count": null,
   "metadata": {},
   "outputs": [],
   "source": [
    "check = [all_segs[i] for i in np.where(np.array(std分布)<0.03)[0]]"
   ]
  },
  {
   "cell_type": "code",
   "execution_count": null,
   "metadata": {},
   "outputs": [],
   "source": [
    "no = 0"
   ]
  },
  {
   "cell_type": "code",
   "execution_count": null,
   "metadata": {},
   "outputs": [],
   "source": [
    "print(check[no])\n",
    "ds.plot_seg(check[no],ticks_granularity=2)\n",
    "no += 1\n",
    "print(no)"
   ]
  },
  {
   "cell_type": "code",
   "execution_count": null,
   "metadata": {},
   "outputs": [],
   "source": [
    "ds.plot_seg(ds.all_segments[\"A09\"][2911])"
   ]
  },
  {
   "cell_type": "code",
   "execution_count": null,
   "metadata": {},
   "outputs": [],
   "source": [
    "len(list_sum([v for v in valid_segs.values()]))"
   ]
  },
  {
   "cell_type": "code",
   "execution_count": null,
   "metadata": {},
   "outputs": [],
   "source": [
    "with open(ds.segments_json, \"w\") as f:\n",
    "    json.dump(valid_segs, f)"
   ]
  },
  {
   "cell_type": "code",
   "execution_count": null,
   "metadata": {},
   "outputs": [],
   "source": []
  },
  {
   "cell_type": "code",
   "execution_count": null,
   "metadata": {},
   "outputs": [],
   "source": [
    "data = ds._load_seg_data(\"S08_0001043\")\n",
    "dr.plot(\"A01\", data=data/np.std(data)*0.25, ticks_granularity=2)\n",
    "ds.plot_seg(\"S08_0001043\")"
   ]
  },
  {
   "cell_type": "code",
   "execution_count": null,
   "metadata": {},
   "outputs": [],
   "source": []
  },
  {
   "cell_type": "code",
   "execution_count": null,
   "metadata": {},
   "outputs": [],
   "source": [
    "ecg_denoise(ds._load_seg_data(ds.segments[0]),400,{\"ampl_min\":0.15}) == [[0,4000]]"
   ]
  },
  {
   "cell_type": "code",
   "execution_count": null,
   "metadata": {},
   "outputs": [],
   "source": [
    "from scipy.ndimage import median_filter"
   ]
  },
  {
   "cell_type": "code",
   "execution_count": null,
   "metadata": {},
   "outputs": [],
   "source": [
    "data = ds._load_seg_data(\"S06_0005081\")"
   ]
  },
  {
   "cell_type": "code",
   "execution_count": null,
   "metadata": {},
   "outputs": [],
   "source": [
    "from signal_processing.ecg_denoise import ecg_denoise"
   ]
  },
  {
   "cell_type": "code",
   "execution_count": null,
   "metadata": {},
   "outputs": [],
   "source": [
    "# ecg_denoise(data,400,{})\n",
    "itvs = ecg_denoise(dr.load_data(\"A02\"),400,{\"ampl_min\":0.15})"
   ]
  },
  {
   "cell_type": "code",
   "execution_count": null,
   "metadata": {},
   "outputs": [],
   "source": [
    "sum([itv[1]-itv[0] for itv in itvs])"
   ]
  },
  {
   "cell_type": "code",
   "execution_count": null,
   "metadata": {},
   "outputs": [],
   "source": []
  },
  {
   "cell_type": "code",
   "execution_count": null,
   "metadata": {},
   "outputs": [],
   "source": [
    "ecg_denoise(ds._load_seg_data())"
   ]
  },
  {
   "cell_type": "code",
   "execution_count": null,
   "metadata": {},
   "outputs": [],
   "source": []
  },
  {
   "cell_type": "code",
   "execution_count": null,
   "metadata": {},
   "outputs": [],
   "source": []
  },
  {
   "cell_type": "code",
   "execution_count": null,
   "metadata": {},
   "outputs": [],
   "source": []
  },
  {
   "cell_type": "code",
   "execution_count": null,
   "metadata": {},
   "outputs": [],
   "source": [
    "no = 370"
   ]
  },
  {
   "cell_type": "code",
   "execution_count": null,
   "metadata": {},
   "outputs": [],
   "source": [
    "ds._load_seg_data(ds.segments[no]).shape"
   ]
  },
  {
   "cell_type": "code",
   "execution_count": null,
   "metadata": {},
   "outputs": [],
   "source": [
    "plt.plot(ds._load_seg_data(ds.segments[no]))"
   ]
  },
  {
   "cell_type": "code",
   "execution_count": null,
   "metadata": {},
   "outputs": [],
   "source": [
    "ds._load_seg_label(ds.segments[no])"
   ]
  },
  {
   "cell_type": "code",
   "execution_count": null,
   "metadata": {},
   "outputs": [],
   "source": [
    "ds._load_seg_beat_ann(ds.segments[no])"
   ]
  },
  {
   "cell_type": "code",
   "execution_count": null,
   "metadata": {},
   "outputs": [],
   "source": [
    "for seg in ds.segments:\n",
    "    lb = ds._load_seg_label(seg)\n",
    "    if (lb[1:]>0).any():\n",
    "        print(seg)"
   ]
  },
  {
   "cell_type": "code",
   "execution_count": null,
   "metadata": {},
   "outputs": [],
   "source": []
  },
  {
   "cell_type": "code",
   "execution_count": null,
   "metadata": {},
   "outputs": [],
   "source": [
    "ds.plot_seg(\"S01_0001781\", ticks_granularity=2)"
   ]
  },
  {
   "cell_type": "code",
   "execution_count": null,
   "metadata": {},
   "outputs": [],
   "source": [
    "# ds._slice_one_record(rec=rec,verbose=2)"
   ]
  },
  {
   "cell_type": "code",
   "execution_count": null,
   "metadata": {},
   "outputs": [],
   "source": [
    "# ds._slice_data(verbose=2)"
   ]
  },
  {
   "cell_type": "code",
   "execution_count": null,
   "metadata": {},
   "outputs": [],
   "source": []
  },
  {
   "cell_type": "code",
   "execution_count": null,
   "metadata": {},
   "outputs": [],
   "source": [
    "# ds._preprocess_one_record(\"A01\",config=PreprocCfg)"
   ]
  },
  {
   "cell_type": "code",
   "execution_count": null,
   "metadata": {},
   "outputs": [],
   "source": [
    "ds.all_segments"
   ]
  },
  {
   "cell_type": "code",
   "execution_count": null,
   "metadata": {},
   "outputs": [],
   "source": [
    "pd = loadmat(os.path.join(ds.preprocess_dir,\"A01-bandpass.mat\"))"
   ]
  },
  {
   "cell_type": "code",
   "execution_count": null,
   "metadata": {},
   "outputs": [],
   "source": [
    "pd_rpeaks = loadmat(os.path.join(ds.rpeaks_dir, \"A01-bandpass.mat\"))"
   ]
  },
  {
   "cell_type": "code",
   "execution_count": null,
   "metadata": {},
   "outputs": [],
   "source": [
    "pd['ecg'].squeeze()"
   ]
  },
  {
   "cell_type": "code",
   "execution_count": null,
   "metadata": {},
   "outputs": [],
   "source": [
    "pd_rpeaks['rpeaks'].squeeze()"
   ]
  },
  {
   "cell_type": "code",
   "execution_count": null,
   "metadata": {},
   "outputs": [],
   "source": [
    "rpeaks = pd_rpeaks['rpeaks'].squeeze()[np.where(pd_rpeaks['rpeaks'].squeeze()<400*60*3)]"
   ]
  },
  {
   "cell_type": "code",
   "execution_count": null,
   "metadata": {},
   "outputs": [],
   "source": [
    "# dr.plot(\"A01\", data=pd['ecg'].squeeze()[:400*60*3], rpeak_inds=rpeaks,ticks_granularity=2)\n",
    "dr.plot(\"A01\", rpeak_inds=rpeaks,ticks_granularity=2)"
   ]
  },
  {
   "cell_type": "code",
   "execution_count": null,
   "metadata": {},
   "outputs": [],
   "source": []
  },
  {
   "cell_type": "code",
   "execution_count": null,
   "metadata": {},
   "outputs": [],
   "source": [
    "dr.load_ann(\"A01\")"
   ]
  },
  {
   "cell_type": "code",
   "execution_count": null,
   "metadata": {},
   "outputs": [],
   "source": [
    "ds._slice_one_record(\"A01\", verbose=2)"
   ]
  },
  {
   "cell_type": "code",
   "execution_count": null,
   "metadata": {},
   "outputs": [],
   "source": []
  },
  {
   "cell_type": "code",
   "execution_count": null,
   "metadata": {},
   "outputs": [],
   "source": []
  },
  {
   "cell_type": "code",
   "execution_count": null,
   "metadata": {},
   "outputs": [],
   "source": [
    "from signal_processing.ecg_rpeaks_dl import seq_lab_net_detect"
   ]
  },
  {
   "cell_type": "code",
   "execution_count": null,
   "metadata": {},
   "outputs": [],
   "source": [
    "data = dr.load_data(rec,keep_dim=False)"
   ]
  },
  {
   "cell_type": "code",
   "execution_count": null,
   "metadata": {},
   "outputs": [],
   "source": [
    "data.shape"
   ]
  },
  {
   "cell_type": "code",
   "execution_count": null,
   "metadata": {},
   "outputs": [],
   "source": [
    "rpeaks = seq_lab_net_detect(data[:30*60*400], 400, verbose=2)"
   ]
  },
  {
   "cell_type": "code",
   "execution_count": null,
   "metadata": {},
   "outputs": [],
   "source": [
    "rpeaks"
   ]
  },
  {
   "cell_type": "code",
   "execution_count": null,
   "metadata": {
    "scrolled": false
   },
   "outputs": [],
   "source": [
    "dr.plot(rec, data[:3*60*400], rpeak_inds=rpeaks, ticks_granularity=2)"
   ]
  },
  {
   "cell_type": "code",
   "execution_count": null,
   "metadata": {},
   "outputs": [],
   "source": [
    "np.ones((20,20))[0,:5]"
   ]
  },
  {
   "cell_type": "code",
   "execution_count": null,
   "metadata": {},
   "outputs": [],
   "source": []
  },
  {
   "cell_type": "code",
   "execution_count": null,
   "metadata": {},
   "outputs": [],
   "source": [
    "data = dr.load_data(rec, sampfrom=0, sampto=4000, keep_dim=False)\n",
    "data.shape"
   ]
  },
  {
   "cell_type": "code",
   "execution_count": null,
   "metadata": {},
   "outputs": [],
   "source": [
    "diff = np.max(data) - np.min(data)"
   ]
  },
  {
   "cell_type": "code",
   "execution_count": null,
   "metadata": {},
   "outputs": [],
   "source": [
    "bw = gen_baseline_wander(4000,400,[0.33, 0.1, 0.05, 0.01], diff*np.array([0.02, 0.04, 0.07, 0.1]), 0, diff*0.01)\n",
    "bw.shape"
   ]
  },
  {
   "cell_type": "code",
   "execution_count": null,
   "metadata": {},
   "outputs": [],
   "source": [
    "fig,ax = plt.subplots(figsize=(20,6))\n",
    "ax.plot(bw)\n",
    "ax.plot(data)\n",
    "ax.plot(data+bw)"
   ]
  },
  {
   "cell_type": "code",
   "execution_count": null,
   "metadata": {},
   "outputs": [],
   "source": [
    "hehe = np.ones((20,4))"
   ]
  },
  {
   "cell_type": "code",
   "execution_count": null,
   "metadata": {},
   "outputs": [],
   "source": [
    "hehe[np.array([2,3,4,5]),...]"
   ]
  },
  {
   "cell_type": "code",
   "execution_count": null,
   "metadata": {},
   "outputs": [],
   "source": [
    "data.shape"
   ]
  },
  {
   "cell_type": "code",
   "execution_count": null,
   "metadata": {},
   "outputs": [],
   "source": [
    "data_rsmp = scipy.signal.resample_poly(data, up=51, down=50)"
   ]
  },
  {
   "cell_type": "code",
   "execution_count": null,
   "metadata": {},
   "outputs": [],
   "source": [
    "fig,ax = plt.subplots(figsize=(20,6))\n",
    "ax.plot(data_rsmp)\n",
    "ax.plot(data)"
   ]
  },
  {
   "cell_type": "code",
   "execution_count": null,
   "metadata": {},
   "outputs": [],
   "source": [
    "?scipy.signal.resample"
   ]
  },
  {
   "cell_type": "code",
   "execution_count": null,
   "metadata": {},
   "outputs": [],
   "source": [
    "?np.append"
   ]
  },
  {
   "cell_type": "code",
   "execution_count": null,
   "metadata": {},
   "outputs": [],
   "source": [
    "hehe = np.ones((20,20))"
   ]
  },
  {
   "cell_type": "code",
   "execution_count": null,
   "metadata": {},
   "outputs": [],
   "source": [
    "for _ in range(10):\n",
    "    hehe = np.append(hehe, np.zeros((1,20)), axis=0)"
   ]
  },
  {
   "cell_type": "code",
   "execution_count": null,
   "metadata": {},
   "outputs": [],
   "source": [
    "?hehe.reshape"
   ]
  },
  {
   "cell_type": "code",
   "execution_count": null,
   "metadata": {},
   "outputs": [],
   "source": [
    "np.ones((10,)).reshape((1,-1)).shape"
   ]
  },
  {
   "cell_type": "code",
   "execution_count": null,
   "metadata": {},
   "outputs": [],
   "source": []
  }
 ],
 "metadata": {
  "kernelspec": {
   "display_name": "Python3 (PySpark)",
   "language": "python",
   "name": "python3"
  },
  "language_info": {
   "codemirror_mode": {
    "name": "ipython",
    "version": 3
   },
   "file_extension": ".py",
   "mimetype": "text/x-python",
   "name": "python",
   "nbconvert_exporter": "python",
   "pygments_lexer": "ipython3",
   "version": "3.6.7"
  }
 },
 "nbformat": 4,
 "nbformat_minor": 4
}
